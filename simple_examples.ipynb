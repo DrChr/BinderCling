{
 "cells": [
  {
   "cell_type": "markdown",
   "metadata": {},
   "source": [
    "# Jupyter notebooks for C++"
   ]
  },
  {
   "cell_type": "markdown",
   "metadata": {},
   "source": [
    "Required includes to compile the C++ code."
   ]
  },
  {
   "cell_type": "code",
   "execution_count": 1,
   "metadata": {},
   "outputs": [],
   "source": [
    "#include <iostream>\n",
    "#include <valarray>"
   ]
  },
  {
   "cell_type": "markdown",
   "metadata": {},
   "source": [
    "## Leap year"
   ]
  },
  {
   "cell_type": "markdown",
   "metadata": {},
   "source": [
    "Function to compute whether a year is a leap year."
   ]
  },
  {
   "cell_type": "code",
   "execution_count": 2,
   "metadata": {},
   "outputs": [],
   "source": [
    "bool is_leap_year(int year) {\n",
    "    return (year % 400 == 0) || ((year % 100 != 0) && (year % 4 == 0));\n",
    "}"
   ]
  },
  {
   "cell_type": "markdown",
   "metadata": {},
   "source": [
    "A year is a leap year when it is divisible by 4, except when it is divisible by 100.  However, it is a leap year when it is divisible by 400."
   ]
  },
  {
   "cell_type": "code",
   "execution_count": 3,
   "metadata": {},
   "outputs": [
    {
     "name": "stdout",
     "output_type": "stream",
     "text": [
      "1900 is not a leap year\n",
      "1903 is not a leap year\n",
      "1908 is leap year\n",
      "2000 is leap year\n",
      "2012 is leap year\n"
     ]
    }
   ],
   "source": [
    "std::valarray<int> years = {1900, 1903, 1908, 2000, 2012};\n",
    "for (const auto& year: years)\n",
    "    if (is_leap_year(year))\n",
    "        std::cout << year << \" is leap year\" << std::endl;\n",
    "    else\n",
    "        std::cout << year << \" is not a leap year\" << std::endl;"
   ]
  },
  {
   "cell_type": "markdown",
   "metadata": {},
   "source": [
    "## Greatest common divisor"
   ]
  },
  {
   "cell_type": "markdown",
   "metadata": {},
   "source": [
    "Write a function that computes the greatest common divisor of two strictly positive integers."
   ]
  },
  {
   "cell_type": "code",
   "execution_count": 8,
   "metadata": {},
   "outputs": [],
   "source": [
    "int gcd(int a, int b) {\n",
    "    while (a != b)\n",
    "        if (a > b)\n",
    "            return gcd(a - b, b);\n",
    "        else\n",
    "            return gcd(a, b - a);\n",
    "    return a;\n",
    "}"
   ]
  },
  {
   "cell_type": "markdown",
   "metadata": {},
   "source": [
    "If $a = b$, then obviously $gcd(a, b) = a$.\n",
    "\n",
    "If $a \\neq b$, then there are three integers $d$, $m$, and $n$ such that $a = m d$ and $b = n d$. Suppose that $a > b$, then $a - b = (m - n) d$, so $d$ is clearly a divisor of both $b$ and $a - b$, and $b - a < a$. Now let $a = a - b$.  Hence $\\max(a, b)$ decreases monotonically, and the smallest difference can be no smaller than $d$, at which point $a = b$."
   ]
  },
  {
   "cell_type": "code",
   "execution_count": 9,
   "metadata": {},
   "outputs": [
    {
     "name": "stdout",
     "output_type": "stream",
     "text": [
      "3\n",
      "3\n",
      "1\n"
     ]
    }
   ],
   "source": [
    "std::cout << gcd(12, 15) << std::endl;\n",
    "std::cout << gcd(12, 3) << std::endl;\n",
    "std::cout << gcd(12, 13) << std::endl;"
   ]
  },
  {
   "cell_type": "markdown",
   "metadata": {},
   "source": [
    "## Streaming statistics"
   ]
  },
  {
   "cell_type": "markdown",
   "metadata": {},
   "source": [
    "Define a simple class to keep track of streaming data and compute the average value."
   ]
  },
  {
   "cell_type": "code",
   "execution_count": 4,
   "metadata": {},
   "outputs": [],
   "source": [
    "class Stats {\n",
    "    private:\n",
    "        double _sum;\n",
    "        int _n;\n",
    "    public:\n",
    "        Stats() : _sum {0.0}, _n {0} {};\n",
    "        void add(double value) { _sum += value; ++_n; };\n",
    "        double avg() const { return _sum/_n; };\n",
    "}"
   ]
  },
  {
   "cell_type": "markdown",
   "metadata": {},
   "source": [
    "Illustration of how to use the objects of this class."
   ]
  },
  {
   "cell_type": "code",
   "execution_count": 6,
   "metadata": {},
   "outputs": [
    {
     "name": "stdout",
     "output_type": "stream",
     "text": [
      "positive average = 2.25\n",
      "negative average = -5.25\n"
     ]
    }
   ],
   "source": [
    "Stats pos_stats;\n",
    "Stats neg_stats;\n",
    "for (double value = -10.0; value < 5.0; value += 0.5)\n",
    "    if (value < 0.0)\n",
    "        neg_stats.add(value);\n",
    "    else\n",
    "        pos_stats.add(value);\n",
    "std::cout << \"positive average = \" << pos_stats.avg() << std::endl;\n",
    "std::cout << \"negative average = \" << neg_stats.avg() << std::endl;"
   ]
  }
 ],
 "metadata": {
  "kernelspec": {
   "display_name": "C++14",
   "language": "C++14",
   "name": "xeus-cling-cpp14"
  },
  "language_info": {
   "codemirror_mode": "text/x-c++src",
   "file_extension": ".cpp",
   "mimetype": "text/x-c++src",
   "name": "c++",
   "version": "14"
  }
 },
 "nbformat": 4,
 "nbformat_minor": 2
}
